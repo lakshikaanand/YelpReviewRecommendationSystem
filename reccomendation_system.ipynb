{
 "cells": [
  {
   "cell_type": "code",
   "execution_count": 8,
   "metadata": {
    "execution": {
     "iopub.execute_input": "2022-02-18T12:09:56.516163Z",
     "iopub.status.busy": "2022-02-18T12:09:56.515777Z",
     "iopub.status.idle": "2022-02-18T12:09:56.524894Z",
     "shell.execute_reply": "2022-02-18T12:09:56.523891Z",
     "shell.execute_reply.started": "2022-02-18T12:09:56.516127Z"
    }
   },
   "outputs": [],
   "source": [
    "# general \n",
    "import pandas as pd \n",
    "import gc \n",
    "import os \n",
    "import matplotlib.pyplot as plt \n",
    "import numpy as np \n",
    "import pickle\n",
    "import geopandas as gpd\n",
    "\n",
    "from sklearn.preprocessing import StandardScaler\n",
    "from sklearn.model_selection import KFold\n",
    "from sklearn.metrics import mean_squared_error as mse \n",
    "from sklearn.metrics import mean_absolute_error as mae \n",
    "from sklearn.metrics import accuracy_score\n",
    "\n",
    "#deep learning for recommendation  \n",
    "import tensorflow as tf \n",
    "from tensorflow.keras import layers\n",
    "from tensorflow.keras import backend as K \n",
    "\n",
    "pd.set_option('display.max_columns',None)"
   ]
  },
  {
   "cell_type": "markdown",
   "metadata": {},
   "source": [
    "\n",
    "**SELECTING RANDOM SEED FOR REPRODUCABILITY**"
   ]
  },
  {
   "cell_type": "code",
   "execution_count": 9,
   "metadata": {
    "execution": {
     "iopub.execute_input": "2022-02-18T12:09:56.526863Z",
     "iopub.status.busy": "2022-02-18T12:09:56.526488Z",
     "iopub.status.idle": "2022-02-18T12:09:56.543333Z",
     "shell.execute_reply": "2022-02-18T12:09:56.542653Z",
     "shell.execute_reply.started": "2022-02-18T12:09:56.526831Z"
    }
   },
   "outputs": [
    {
     "name": "stdout",
     "output_type": "stream",
     "text": [
      "Setting Random Seed  to 7\n"
     ]
    }
   ],
   "source": [
    "class config:\n",
    "    def __init__(self,\n",
    "                seed=7,\n",
    "                folds=15):\n",
    "        self.seed = seed\n",
    "        self.n_folds = folds\n",
    "        \n",
    "    def set_seed(self):\n",
    "        '''set seed for reproduciblity'''\n",
    "\n",
    "        tf.random.set_seed(self.seed)\n",
    "        os.environ['PYTHONHASHSEED'] = str(self.seed)\n",
    "        np.random.seed(self.seed)\n",
    "        print(f'Setting Random Seed  to {self.seed}')\n",
    "\n",
    "        \n",
    "        \n",
    "cfg = config()\n",
    "cfg.set_seed()"
   ]
  },
  {
   "cell_type": "markdown",
   "metadata": {},
   "source": [
    "# Helper Functions"
   ]
  },
  {
   "cell_type": "code",
   "execution_count": 10,
   "metadata": {
    "execution": {
     "iopub.execute_input": "2022-02-18T12:09:56.545054Z",
     "iopub.status.busy": "2022-02-18T12:09:56.544672Z",
     "iopub.status.idle": "2022-02-18T12:09:56.559373Z",
     "shell.execute_reply": "2022-02-18T12:09:56.558659Z",
     "shell.execute_reply.started": "2022-02-18T12:09:56.544909Z"
    }
   },
   "outputs": [],
   "source": [
    "def delete_items(items_list):\n",
    "    \n",
    "    try:\n",
    "        for item in items_list:\n",
    "            del item ; gc.collect()\n",
    "            \n",
    "    except Exception as e:\n",
    "        print(e)\n",
    "\n",
    "        \n",
    "def save_pickle(path,\n",
    "                file):\n",
    "    \n",
    "    with open(path) as f:\n",
    "        pickle.dump(obj=path,\n",
    "                   file = file)"
   ]
  },
  {
   "cell_type": "markdown",
   "metadata": {},
   "source": [
    "# Loading Data "
   ]
  },
  {
   "cell_type": "code",
   "execution_count": 15,
   "metadata": {
    "execution": {
     "iopub.execute_input": "2022-02-18T12:09:56.562134Z",
     "iopub.status.busy": "2022-02-18T12:09:56.561417Z",
     "iopub.status.idle": "2022-02-18T12:10:14.685023Z",
     "shell.execute_reply": "2022-02-18T12:10:14.683125Z",
     "shell.execute_reply.started": "2022-02-18T12:09:56.562096Z"
    }
   },
   "outputs": [],
   "source": [
    "#reviews \n",
    "reviews = pd.read_csv('restaurant_reviews.csv') \n",
    "\n",
    "# restaurants data \n",
    "restaurants = pd.read_csv('restaurants.csv')\n",
    "\n",
    "# user metadata \n",
    "users = pd.read_csv('users_metadata.csv')"
   ]
  },
  {
   "cell_type": "code",
   "execution_count": 16,
   "metadata": {
    "execution": {
     "iopub.execute_input": "2022-02-18T12:10:14.687377Z",
     "iopub.status.busy": "2022-02-18T12:10:14.686902Z",
     "iopub.status.idle": "2022-02-18T12:10:25.094604Z",
     "shell.execute_reply": "2022-02-18T12:10:25.092889Z",
     "shell.execute_reply.started": "2022-02-18T12:10:14.687328Z"
    }
   },
   "outputs": [],
   "source": [
    "reviews_user_matrix = reviews[['user_id','business_id','stars','year_over_base']].merge(users,on='user_id',how='left')\n",
    "\n",
    "\n",
    "\n",
    "reviews_user_matrix['yelping_since']  = max(reviews_user_matrix['yelping_since']) - reviews_user_matrix['yelping_since']\n"
   ]
  },
  {
   "cell_type": "code",
   "execution_count": 17,
   "metadata": {
    "execution": {
     "iopub.execute_input": "2022-02-18T12:10:25.096981Z",
     "iopub.status.busy": "2022-02-18T12:10:25.096578Z",
     "iopub.status.idle": "2022-02-18T12:10:25.109495Z",
     "shell.execute_reply": "2022-02-18T12:10:25.107914Z",
     "shell.execute_reply.started": "2022-02-18T12:10:25.096916Z"
    }
   },
   "outputs": [],
   "source": [
    "def split_df_in_folds(df,\n",
    "                      n_folds=cfg.n_folds,\n",
    "                      test_split=True,\n",
    "                      test_fold_size=305580):\n",
    "    '''split a dataset into folds for crossvalidation\n",
    "    \n",
    "    Outputs : validation_fold as fold number .'''\n",
    "    \n",
    "    if test_split:\n",
    "        test_index = np.random.choice(a=len(df),\n",
    "                                      size=test_fold_size)\n",
    "        \n",
    "        test_df = df.iloc[test_index]\n",
    "        \n",
    "        df.drop(test_index,axis=0,inplace=True)\n",
    "        \n",
    "    \n",
    "    \n",
    "    #split into folds\n",
    "    df.reset_index(drop=True,inplace=True)\n",
    "    cv = KFold(n_splits=n_folds,random_state=cfg.seed,shuffle=True)\n",
    "    for fold,(tr,val_fold) in enumerate(cv.split(df)):\n",
    "        \n",
    "        df.loc[val_fold,'validation_fold'] = fold + 1\n",
    "        \n",
    "        \n",
    "    if test_split:\n",
    "        return df,test_df\n",
    "    \n",
    "    return df\n"
   ]
  },
  {
   "cell_type": "code",
   "execution_count": 18,
   "metadata": {
    "execution": {
     "iopub.execute_input": "2022-02-18T12:10:25.112608Z",
     "iopub.status.busy": "2022-02-18T12:10:25.112318Z",
     "iopub.status.idle": "2022-02-18T12:10:29.180604Z",
     "shell.execute_reply": "2022-02-18T12:10:29.179621Z",
     "shell.execute_reply.started": "2022-02-18T12:10:25.112576Z"
    }
   },
   "outputs": [
    {
     "name": "stdout",
     "output_type": "stream",
     "text": [
      "4010685 examples in train set. \n",
      " 305580 examples in test set\n"
     ]
    }
   ],
   "source": [
    "#split the data into train and test set \n",
    "\n",
    "reviews_user_matrix,reviews_user_matrix_test = split_df_in_folds(reviews_user_matrix)\n",
    "\n",
    "\n",
    "print(f'{len(reviews_user_matrix)} examples in train set. \\n {len(reviews_user_matrix_test)} examples in test set')"
   ]
  },
  {
   "cell_type": "code",
   "execution_count": 19,
   "metadata": {
    "execution": {
     "iopub.execute_input": "2022-02-18T12:10:29.182026Z",
     "iopub.status.busy": "2022-02-18T12:10:29.181748Z",
     "iopub.status.idle": "2022-02-18T12:10:29.599441Z",
     "shell.execute_reply": "2022-02-18T12:10:29.598246Z",
     "shell.execute_reply.started": "2022-02-18T12:10:29.181986Z"
    }
   },
   "outputs": [],
   "source": [
    "delete_items([reviews,users])"
   ]
  },
  {
   "cell_type": "markdown",
   "metadata": {},
   "source": [
    "# Standardizing Numerical Columns "
   ]
  },
  {
   "cell_type": "code",
   "execution_count": 20,
   "metadata": {
    "execution": {
     "iopub.execute_input": "2022-02-18T12:10:29.601893Z",
     "iopub.status.busy": "2022-02-18T12:10:29.601570Z",
     "iopub.status.idle": "2022-02-18T12:10:29.617549Z",
     "shell.execute_reply": "2022-02-18T12:10:29.616162Z",
     "shell.execute_reply.started": "2022-02-18T12:10:29.601848Z"
    }
   },
   "outputs": [],
   "source": [
    "review_matrix_numerical_columns = ['year_over_base','review_count','yelping_since','useful','funny','cool','fans','average_stars','f_count']\n",
    "restaurants_numerical_columns  = ['review_count','stars']"
   ]
  },
  {
   "cell_type": "code",
   "execution_count": 21,
   "metadata": {
    "execution": {
     "iopub.execute_input": "2022-02-18T12:20:12.270330Z",
     "iopub.status.busy": "2022-02-18T12:20:12.269379Z",
     "iopub.status.idle": "2022-02-18T12:20:13.555753Z",
     "shell.execute_reply": "2022-02-18T12:20:13.554160Z",
     "shell.execute_reply.started": "2022-02-18T12:20:12.270280Z"
    }
   },
   "outputs": [],
   "source": [
    "#scale\n",
    "scaler = StandardScaler()\n",
    "reviews_user_matrix[review_matrix_numerical_columns] = scaler.fit_transform(reviews_user_matrix[review_matrix_numerical_columns]) \n",
    "\n",
    "#storing mean and std devs \n",
    "review_numerical_transform_dict = {review_matrix_numerical_columns[i]:{'mean':scaler.mean_[i],'std':np.sqrt(scaler.var_[i])} for i in range(len(review_matrix_numerical_columns))}"
   ]
  },
  {
   "cell_type": "code",
   "execution_count": 22,
   "metadata": {
    "_kg_hide-input": true,
    "execution": {
     "iopub.execute_input": "2022-02-18T12:20:17.610631Z",
     "iopub.status.busy": "2022-02-18T12:20:17.610225Z",
     "iopub.status.idle": "2022-02-18T12:20:17.618705Z",
     "shell.execute_reply": "2022-02-18T12:20:17.617315Z",
     "shell.execute_reply.started": "2022-02-18T12:20:17.610585Z"
    }
   },
   "outputs": [],
   "source": [
    "def review_scaling_pipe(df,\n",
    "                        scaling_values_dict=review_numerical_transform_dict):\n",
    "    '''scales the test set data , from the mean ,stddev obtained on train set'''\n",
    "    \n",
    "    for key in scaling_values_dict.keys():\n",
    "        df.loc[:,key] = (df.loc[:,key] -  scaling_values_dict[key]['mean'])/ scaling_values_dict[key]['std']  \n",
    "        \n",
    "    return df"
   ]
  },
  {
   "cell_type": "code",
   "execution_count": 23,
   "metadata": {
    "execution": {
     "iopub.execute_input": "2022-02-18T12:20:18.069586Z",
     "iopub.status.busy": "2022-02-18T12:20:18.069280Z",
     "iopub.status.idle": "2022-02-18T12:20:18.326771Z",
     "shell.execute_reply": "2022-02-18T12:20:18.325907Z",
     "shell.execute_reply.started": "2022-02-18T12:20:18.069551Z"
    }
   },
   "outputs": [
    {
     "name": "stderr",
     "output_type": "stream",
     "text": [
      "C:\\Users\\Asus\\AppData\\Local\\Temp\\ipykernel_22836\\2642798872.py:6: SettingWithCopyWarning: \n",
      "A value is trying to be set on a copy of a slice from a DataFrame.\n",
      "Try using .loc[row_indexer,col_indexer] = value instead\n",
      "\n",
      "See the caveats in the documentation: https://pandas.pydata.org/pandas-docs/stable/user_guide/indexing.html#returning-a-view-versus-a-copy\n",
      "  df.loc[:,key] = (df.loc[:,key] -  scaling_values_dict[key]['mean'])/ scaling_values_dict[key]['std']  # x- mean / std\n"
     ]
    }
   ],
   "source": [
    "#scaling test data using train data params\n",
    "\n",
    "reviews_user_matrix_test = review_scaling_pipe(reviews_user_matrix_test)"
   ]
  },
  {
   "cell_type": "code",
   "execution_count": 24,
   "metadata": {
    "execution": {
     "iopub.execute_input": "2022-02-18T12:20:18.483589Z",
     "iopub.status.busy": "2022-02-18T12:20:18.483293Z",
     "iopub.status.idle": "2022-02-18T12:20:18.593062Z",
     "shell.execute_reply": "2022-02-18T12:20:18.591926Z",
     "shell.execute_reply.started": "2022-02-18T12:20:18.483559Z"
    }
   },
   "outputs": [],
   "source": [
    "scaler2 = StandardScaler()\n",
    "\n",
    "restaurants[restaurants_numerical_columns] = scaler2.fit_transform(restaurants[restaurants_numerical_columns])#storing mean and std devs \n",
    "restaurants_numerical_transform_dict = {restaurants_numerical_columns[i]:{'mean':scaler2.mean_[i],\n",
    "                                                                          'std':np.sqrt(scaler2.var_[i])} for i in range(len(restaurants_numerical_columns))}"
   ]
  },
  {
   "cell_type": "markdown",
   "metadata": {},
   "source": [
    "##RECOMMENDATION SYSTEM"
   ]
  },
  {
   "cell_type": "code",
   "execution_count": 27,
   "metadata": {
    "execution": {
     "iopub.execute_input": "2022-02-18T12:20:19.284275Z",
     "iopub.status.busy": "2022-02-18T12:20:19.283979Z",
     "iopub.status.idle": "2022-02-18T12:20:19.290601Z",
     "shell.execute_reply": "2022-02-18T12:20:19.289641Z",
     "shell.execute_reply.started": "2022-02-18T12:20:19.284242Z"
    }
   },
   "outputs": [],
   "source": [
    "# names in restaurant and review clash for these \n",
    "\n",
    "restaurants.rename(columns={'stars':'mean_stars',      \n",
    "                            'review_count':'reviews'},\n",
    "                   inplace=True) "
   ]
  },
  {
   "cell_type": "code",
   "execution_count": 28,
   "metadata": {
    "execution": {
     "iopub.execute_input": "2022-02-18T12:20:20.437159Z",
     "iopub.status.busy": "2022-02-18T12:20:20.436814Z",
     "iopub.status.idle": "2022-02-18T12:20:20.444092Z",
     "shell.execute_reply": "2022-02-18T12:20:20.443360Z",
     "shell.execute_reply.started": "2022-02-18T12:20:20.437123Z"
    }
   },
   "outputs": [],
   "source": [
    "cfg.columns_info_dict = {'id_columns_user_matrix':['user_id','business_id'],  \n",
    "                         'user_columns': [c for c in reviews_user_matrix.columns if c not in ['user_id','business_id','validation_fold','stars']], \n",
    "                         'id_columns': ['business_id','name'],                \n",
    "                         'rest_columns':[c for c in restaurants.columns if c not in ['user_id','business_id','name']]} # trainig cols in restaurant matrix"
   ]
  },
  {
   "cell_type": "code",
   "execution_count": 29,
   "metadata": {
    "execution": {
     "iopub.execute_input": "2022-02-18T12:20:21.186607Z",
     "iopub.status.busy": "2022-02-18T12:20:21.185891Z",
     "iopub.status.idle": "2022-02-18T12:20:21.228574Z",
     "shell.execute_reply": "2022-02-18T12:20:21.226770Z",
     "shell.execute_reply.started": "2022-02-18T12:20:21.186566Z"
    }
   },
   "outputs": [],
   "source": [
    "from keras.utils.generic_utils import get_custom_objects\n",
    "\n",
    "\n",
    "def rating_activation(x):\n",
    "    \n",
    "    #custom activation for rating in range(1-5)\n",
    "    #     def act(x):\n",
    "    return (K.sigmoid(x) * 4) + 1   # as sig is 0-1, our activation is bound in range[1-5]\n",
    "\n",
    "\n",
    "get_custom_objects().update({'rating_activation': layers.Activation(rating_activation)})"
   ]
  },
  {
   "cell_type": "markdown",
   "metadata": {},
   "source": [
    "# Nueral Net Based model \n",
    "\n",
    "    "
   ]
  },
  {
   "cell_type": "code",
   "execution_count": 39,
   "metadata": {
    "execution": {
     "iopub.execute_input": "2022-02-18T12:54:31.643830Z",
     "iopub.status.busy": "2022-02-18T12:54:31.642472Z",
     "iopub.status.idle": "2022-02-18T12:54:31.661976Z",
     "shell.execute_reply": "2022-02-18T12:54:31.660624Z",
     "shell.execute_reply.started": "2022-02-18T12:54:31.643770Z"
    }
   },
   "outputs": [],
   "source": [
    "\n",
    "\n",
    "def build_nn_model(latent_space=30):\n",
    "    \n",
    "    # inputs\n",
    "    user_inp = layers.Input(name = 'user_review', shape = (len(cfg.columns_info_dict['user_columns'])))\n",
    "    rest_inp = layers.Input(name = 'restaurant', shape = (len(cfg.columns_info_dict['rest_columns'])))\n",
    "    \n",
    "    \n",
    "    \n",
    "    #generate user embeddings \n",
    "#     user= layers.Dense(128,name='user_hidden_1',activation='relu')(user_inp)\n",
    "#     user = layers.BatchNormalization()(user)\n",
    "#     user = layers.Dropout(0.5)(user)\n",
    "    \n",
    "    user= layers.Dense(64,name='user_hidden_2',activation='relu')(user_inp)\n",
    "    user = layers.BatchNormalization()(user)\n",
    "    user = layers.Dropout(0.5)(user)\n",
    "    \n",
    "    user= layers.Dense(latent_space,name='user_latent_space',activation='relu')(user)\n",
    "    user = layers.BatchNormalization()(user)\n",
    "    user = layers.Flatten()(user) #flatten\n",
    "    \n",
    "    \n",
    "    #generate restaurant embeds \n",
    "    rest = layers.Dense(128,name='rest_hidden_1',activation='relu')(rest_inp)\n",
    "    rest = layers.BatchNormalization()(rest)\n",
    "    rest = layers.Dropout(0.5)(rest)\n",
    "    \n",
    "    rest = layers.Dense(512,name='rest_hidden_2',activation='relu')(rest)\n",
    "    rest = layers.BatchNormalization()(rest)\n",
    "    rest = layers.Dropout(0.5)(rest)\n",
    "    \n",
    "    rest = layers.Dense(128,name='rest_hidden_3',activation='relu')(rest)\n",
    "    rest = layers.BatchNormalization()(rest)\n",
    "    rest = layers.Dropout(0.5)(rest)\n",
    "    \n",
    "    rest = layers.Dense(latent_space,name='restaurant_latent_space',activation='relu')(rest)\n",
    "    rest = layers.BatchNormalization()(rest)\n",
    "    rest = layers.Flatten()(rest) #flatten\n",
    "    \n",
    "    dot = layers.Dot(name = 'dot_product', normalize = True, axes = - 1)([user, rest])\n",
    "    \n",
    "    add = layers.Add(name= 'addition_layer')([user,rest])\n",
    "        \n",
    "    # merged = dot * (add)\n",
    "    merged = layers.Multiply(name='dot_mul_add')([dot,add])\n",
    "    \n",
    "    out = layers.Dense(5,activation='softmax',name='output_layer')(merged)\n",
    "    \n",
    "    # define the model\n",
    "    model = tf.keras.Model(inputs = [user_inp, rest_inp], \n",
    "                           outputs = out)\n",
    "    \n",
    "    #compile\n",
    "    model.compile(optimizer = 'Adam',\n",
    "                  loss = 'categorical_crossentropy',\n",
    "                  metrics=['accuracy'])\n",
    "\n",
    "    return model"
   ]
  },
  {
   "cell_type": "code",
   "execution_count": 43,
   "metadata": {
    "execution": {
     "iopub.execute_input": "2022-02-18T12:54:37.294840Z",
     "iopub.status.busy": "2022-02-18T12:54:37.293030Z",
     "iopub.status.idle": "2022-02-18T12:54:37.320551Z",
     "shell.execute_reply": "2022-02-18T12:54:37.319149Z",
     "shell.execute_reply.started": "2022-02-18T12:54:37.294768Z"
    },
    "scrolled": true
   },
   "outputs": [
    {
     "ename": "NameError",
     "evalue": "name 'model' is not defined",
     "output_type": "error",
     "traceback": [
      "\u001b[1;31m---------------------------------------------------------------------------\u001b[0m",
      "\u001b[1;31mNameError\u001b[0m                                 Traceback (most recent call last)",
      "Input \u001b[1;32mIn [43]\u001b[0m, in \u001b[0;36m<cell line: 1>\u001b[1;34m()\u001b[0m\n\u001b[1;32m----> 1\u001b[0m \u001b[43mmodel\u001b[49m\u001b[38;5;241m.\u001b[39msummary()\n",
      "\u001b[1;31mNameError\u001b[0m: name 'model' is not defined"
     ]
    }
   ],
   "source": [
    "model.summary()"
   ]
  },
  {
   "cell_type": "markdown",
   "metadata": {},
   "source": [
    "# Because the dataset is quite large, training in parts "
   ]
  },
  {
   "cell_type": "code",
   "execution_count": 44,
   "metadata": {
    "execution": {
     "iopub.execute_input": "2022-02-18T12:54:48.117377Z",
     "iopub.status.busy": "2022-02-18T12:54:48.116675Z",
     "iopub.status.idle": "2022-02-18T12:54:48.130352Z",
     "shell.execute_reply": "2022-02-18T12:54:48.129455Z",
     "shell.execute_reply.started": "2022-02-18T12:54:48.117340Z"
    }
   },
   "outputs": [],
   "source": [
    "def get_dummies(array,\n",
    "                n=5):\n",
    "    ohe_array= np.zeros(shape= (len(array),n))\n",
    "    \n",
    "    for i,rating in enumerate(array):\n",
    "        ohe_array[i,rating-1] = 1\n",
    "        \n",
    "    return ohe_array\n",
    "\n",
    "def prepare_data_for_training(df):\n",
    "    '''prepare data to feed in nn'''\n",
    "    df = df.merge(restaurants,on='business_id',how='left')                     # join business columns\n",
    "    \n",
    "    df.reset_index(drop=True,inplace=True)\n",
    "    \n",
    "    \n",
    "    user_review_mat = df.loc[:,cfg.columns_info_dict['user_columns']].values.astype('float32') # user - review matrix\n",
    "    restaurant_mat = df.loc[:,cfg.columns_info_dict['rest_columns']].values.astype('float32')   # restaurant matrix\n",
    "    target = np.squeeze(df.loc[:,cfg.columns_info_dict['target']].values,axis=-1)                   #target\n",
    "    \n",
    "    #one hot encode target \n",
    "    target = get_dummies(target)\n",
    "        \n",
    "    del df ; gc.collect()\n",
    "    \n",
    "    return user_review_mat,restaurant_mat,target"
   ]
  },
  {
   "cell_type": "code",
   "execution_count": 41,
   "metadata": {
    "execution": {
     "iopub.execute_input": "2022-02-18T12:54:51.857028Z",
     "iopub.status.busy": "2022-02-18T12:54:51.856719Z",
     "iopub.status.idle": "2022-02-18T12:54:51.867721Z",
     "shell.execute_reply": "2022-02-18T12:54:51.866475Z",
     "shell.execute_reply.started": "2022-02-18T12:54:51.856999Z"
    }
   },
   "outputs": [],
   "source": [
    "def training_loop(\n",
    "                  num_epochs_per_fold = 1,\n",
    "                  num_repeats = 2,\n",
    "                  verbose=1):\n",
    "    \n",
    "    for i in range(num_repeats):\n",
    "        print(f'Lap {i+1}')\n",
    "        num_epochs_per_fold += 1\n",
    "        \n",
    "        for fold in range(1,cfg.n_folds+1):\n",
    "            df=reviews_user_matrix[reviews_user_matrix['validation_fold']==fold].copy(deep=True)\n",
    "            user_review_mat,restaurant_mat,target = prepare_data_for_training(df)  # select fold for training\n",
    "            \n",
    "            del df;gc.collect()\n",
    "            \n",
    "            reduce_lr = tf.keras.callbacks.ReduceLROnPlateau(patience=2,\n",
    "                                                             monitor='val_loss',\n",
    "                                                             factor=0.50,\n",
    "                                                             mode='min',\n",
    "                                                             verbose=1)\n",
    "            _=model.fit([user_review_mat,restaurant_mat],\n",
    "                        target,\n",
    "                        epochs=num_epochs_per_fold,\n",
    "                        batch_size = cfg.batch_size,\n",
    "                        verbose=verbose,\n",
    "                        validation_split=0.2,\n",
    "                        callbacks= [reduce_lr],\n",
    "                        validation_freq=2)\n",
    "\n",
    "            #delete items from memory \n",
    "            delete_items([user_review_mat,restaurant_mat,target])"
   ]
  },
  {
   "cell_type": "code",
   "execution_count": 46,
   "metadata": {
    "execution": {
     "iopub.execute_input": "2022-02-18T12:54:59.353302Z",
     "iopub.status.busy": "2022-02-18T12:54:59.352777Z",
     "iopub.status.idle": "2022-02-18T13:27:45.032796Z",
     "shell.execute_reply": "2022-02-18T13:27:45.031182Z",
     "shell.execute_reply.started": "2022-02-18T12:54:59.353260Z"
    }
   },
   "outputs": [
    {
     "name": "stdout",
     "output_type": "stream",
     "text": [
      "Lap 1\n"
     ]
    },
    {
     "ename": "MemoryError",
     "evalue": "Unable to allocate 2.19 GiB for an array with shape (1098, 267379) and data type int64",
     "output_type": "error",
     "traceback": [
      "\u001b[1;31m---------------------------------------------------------------------------\u001b[0m",
      "\u001b[1;31mMemoryError\u001b[0m                               Traceback (most recent call last)",
      "Input \u001b[1;32mIn [46]\u001b[0m, in \u001b[0;36m<cell line: 2>\u001b[1;34m()\u001b[0m\n\u001b[0;32m      1\u001b[0m \u001b[38;5;66;03m#run the training loop\u001b[39;00m\n\u001b[1;32m----> 2\u001b[0m \u001b[43mtraining_loop\u001b[49m\u001b[43m(\u001b[49m\u001b[43m)\u001b[49m\n",
      "Input \u001b[1;32mIn [41]\u001b[0m, in \u001b[0;36mtraining_loop\u001b[1;34m(num_epochs_per_fold, num_repeats, verbose)\u001b[0m\n\u001b[0;32m     10\u001b[0m \u001b[38;5;28;01mfor\u001b[39;00m fold \u001b[38;5;129;01min\u001b[39;00m \u001b[38;5;28mrange\u001b[39m(\u001b[38;5;241m1\u001b[39m,cfg\u001b[38;5;241m.\u001b[39mn_folds\u001b[38;5;241m+\u001b[39m\u001b[38;5;241m1\u001b[39m):\n\u001b[0;32m     11\u001b[0m     df\u001b[38;5;241m=\u001b[39mreviews_user_matrix[reviews_user_matrix[\u001b[38;5;124m'\u001b[39m\u001b[38;5;124mvalidation_fold\u001b[39m\u001b[38;5;124m'\u001b[39m]\u001b[38;5;241m==\u001b[39mfold]\u001b[38;5;241m.\u001b[39mcopy(deep\u001b[38;5;241m=\u001b[39m\u001b[38;5;28;01mTrue\u001b[39;00m)\n\u001b[1;32m---> 12\u001b[0m     user_review_mat,restaurant_mat,target \u001b[38;5;241m=\u001b[39m \u001b[43mprepare_data_for_training\u001b[49m\u001b[43m(\u001b[49m\u001b[43mdf\u001b[49m\u001b[43m)\u001b[49m  \u001b[38;5;66;03m# select fold for training\u001b[39;00m\n\u001b[0;32m     14\u001b[0m     \u001b[38;5;28;01mdel\u001b[39;00m df;gc\u001b[38;5;241m.\u001b[39mcollect()\n\u001b[0;32m     16\u001b[0m     reduce_lr \u001b[38;5;241m=\u001b[39m tf\u001b[38;5;241m.\u001b[39mkeras\u001b[38;5;241m.\u001b[39mcallbacks\u001b[38;5;241m.\u001b[39mReduceLROnPlateau(patience\u001b[38;5;241m=\u001b[39m\u001b[38;5;241m2\u001b[39m,\n\u001b[0;32m     17\u001b[0m                                                      monitor\u001b[38;5;241m=\u001b[39m\u001b[38;5;124m'\u001b[39m\u001b[38;5;124mval_loss\u001b[39m\u001b[38;5;124m'\u001b[39m,\n\u001b[0;32m     18\u001b[0m                                                      factor\u001b[38;5;241m=\u001b[39m\u001b[38;5;241m0.50\u001b[39m,\n\u001b[0;32m     19\u001b[0m                                                      mode\u001b[38;5;241m=\u001b[39m\u001b[38;5;124m'\u001b[39m\u001b[38;5;124mmin\u001b[39m\u001b[38;5;124m'\u001b[39m,\n\u001b[0;32m     20\u001b[0m                                                      verbose\u001b[38;5;241m=\u001b[39m\u001b[38;5;241m1\u001b[39m)\n",
      "Input \u001b[1;32mIn [44]\u001b[0m, in \u001b[0;36mprepare_data_for_training\u001b[1;34m(df)\u001b[0m\n\u001b[0;32m     10\u001b[0m \u001b[38;5;28;01mdef\u001b[39;00m \u001b[38;5;21mprepare_data_for_training\u001b[39m(df):\n\u001b[0;32m     11\u001b[0m     \u001b[38;5;124;03m'''prepare data to feed in nn'''\u001b[39;00m\n\u001b[1;32m---> 12\u001b[0m     df \u001b[38;5;241m=\u001b[39m \u001b[43mdf\u001b[49m\u001b[38;5;241;43m.\u001b[39;49m\u001b[43mmerge\u001b[49m\u001b[43m(\u001b[49m\u001b[43mrestaurants\u001b[49m\u001b[43m,\u001b[49m\u001b[43mon\u001b[49m\u001b[38;5;241;43m=\u001b[39;49m\u001b[38;5;124;43m'\u001b[39;49m\u001b[38;5;124;43mbusiness_id\u001b[39;49m\u001b[38;5;124;43m'\u001b[39;49m\u001b[43m,\u001b[49m\u001b[43mhow\u001b[49m\u001b[38;5;241;43m=\u001b[39;49m\u001b[38;5;124;43m'\u001b[39;49m\u001b[38;5;124;43mleft\u001b[39;49m\u001b[38;5;124;43m'\u001b[39;49m\u001b[43m)\u001b[49m                     \u001b[38;5;66;03m# join business columns\u001b[39;00m\n\u001b[0;32m     14\u001b[0m     df\u001b[38;5;241m.\u001b[39mreset_index(drop\u001b[38;5;241m=\u001b[39m\u001b[38;5;28;01mTrue\u001b[39;00m,inplace\u001b[38;5;241m=\u001b[39m\u001b[38;5;28;01mTrue\u001b[39;00m)\n\u001b[0;32m     17\u001b[0m     user_review_mat \u001b[38;5;241m=\u001b[39m df\u001b[38;5;241m.\u001b[39mloc[:,cfg\u001b[38;5;241m.\u001b[39mcolumns_info_dict[\u001b[38;5;124m'\u001b[39m\u001b[38;5;124muser_columns\u001b[39m\u001b[38;5;124m'\u001b[39m]]\u001b[38;5;241m.\u001b[39mvalues\u001b[38;5;241m.\u001b[39mastype(\u001b[38;5;124m'\u001b[39m\u001b[38;5;124mfloat32\u001b[39m\u001b[38;5;124m'\u001b[39m) \u001b[38;5;66;03m# user - review matrix\u001b[39;00m\n",
      "File \u001b[1;32m~\\anaconda3\\lib\\site-packages\\pandas\\core\\frame.py:9345\u001b[0m, in \u001b[0;36mDataFrame.merge\u001b[1;34m(self, right, how, on, left_on, right_on, left_index, right_index, sort, suffixes, copy, indicator, validate)\u001b[0m\n\u001b[0;32m   9326\u001b[0m \u001b[38;5;129m@Substitution\u001b[39m(\u001b[38;5;124m\"\u001b[39m\u001b[38;5;124m\"\u001b[39m)\n\u001b[0;32m   9327\u001b[0m \u001b[38;5;129m@Appender\u001b[39m(_merge_doc, indents\u001b[38;5;241m=\u001b[39m\u001b[38;5;241m2\u001b[39m)\n\u001b[0;32m   9328\u001b[0m \u001b[38;5;28;01mdef\u001b[39;00m \u001b[38;5;21mmerge\u001b[39m(\n\u001b[1;32m   (...)\u001b[0m\n\u001b[0;32m   9341\u001b[0m     validate: \u001b[38;5;28mstr\u001b[39m \u001b[38;5;241m|\u001b[39m \u001b[38;5;28;01mNone\u001b[39;00m \u001b[38;5;241m=\u001b[39m \u001b[38;5;28;01mNone\u001b[39;00m,\n\u001b[0;32m   9342\u001b[0m ) \u001b[38;5;241m-\u001b[39m\u001b[38;5;241m>\u001b[39m DataFrame:\n\u001b[0;32m   9343\u001b[0m     \u001b[38;5;28;01mfrom\u001b[39;00m \u001b[38;5;21;01mpandas\u001b[39;00m\u001b[38;5;21;01m.\u001b[39;00m\u001b[38;5;21;01mcore\u001b[39;00m\u001b[38;5;21;01m.\u001b[39;00m\u001b[38;5;21;01mreshape\u001b[39;00m\u001b[38;5;21;01m.\u001b[39;00m\u001b[38;5;21;01mmerge\u001b[39;00m \u001b[38;5;28;01mimport\u001b[39;00m merge\n\u001b[1;32m-> 9345\u001b[0m     \u001b[38;5;28;01mreturn\u001b[39;00m \u001b[43mmerge\u001b[49m\u001b[43m(\u001b[49m\n\u001b[0;32m   9346\u001b[0m \u001b[43m        \u001b[49m\u001b[38;5;28;43mself\u001b[39;49m\u001b[43m,\u001b[49m\n\u001b[0;32m   9347\u001b[0m \u001b[43m        \u001b[49m\u001b[43mright\u001b[49m\u001b[43m,\u001b[49m\n\u001b[0;32m   9348\u001b[0m \u001b[43m        \u001b[49m\u001b[43mhow\u001b[49m\u001b[38;5;241;43m=\u001b[39;49m\u001b[43mhow\u001b[49m\u001b[43m,\u001b[49m\n\u001b[0;32m   9349\u001b[0m \u001b[43m        \u001b[49m\u001b[43mon\u001b[49m\u001b[38;5;241;43m=\u001b[39;49m\u001b[43mon\u001b[49m\u001b[43m,\u001b[49m\n\u001b[0;32m   9350\u001b[0m \u001b[43m        \u001b[49m\u001b[43mleft_on\u001b[49m\u001b[38;5;241;43m=\u001b[39;49m\u001b[43mleft_on\u001b[49m\u001b[43m,\u001b[49m\n\u001b[0;32m   9351\u001b[0m \u001b[43m        \u001b[49m\u001b[43mright_on\u001b[49m\u001b[38;5;241;43m=\u001b[39;49m\u001b[43mright_on\u001b[49m\u001b[43m,\u001b[49m\n\u001b[0;32m   9352\u001b[0m \u001b[43m        \u001b[49m\u001b[43mleft_index\u001b[49m\u001b[38;5;241;43m=\u001b[39;49m\u001b[43mleft_index\u001b[49m\u001b[43m,\u001b[49m\n\u001b[0;32m   9353\u001b[0m \u001b[43m        \u001b[49m\u001b[43mright_index\u001b[49m\u001b[38;5;241;43m=\u001b[39;49m\u001b[43mright_index\u001b[49m\u001b[43m,\u001b[49m\n\u001b[0;32m   9354\u001b[0m \u001b[43m        \u001b[49m\u001b[43msort\u001b[49m\u001b[38;5;241;43m=\u001b[39;49m\u001b[43msort\u001b[49m\u001b[43m,\u001b[49m\n\u001b[0;32m   9355\u001b[0m \u001b[43m        \u001b[49m\u001b[43msuffixes\u001b[49m\u001b[38;5;241;43m=\u001b[39;49m\u001b[43msuffixes\u001b[49m\u001b[43m,\u001b[49m\n\u001b[0;32m   9356\u001b[0m \u001b[43m        \u001b[49m\u001b[43mcopy\u001b[49m\u001b[38;5;241;43m=\u001b[39;49m\u001b[43mcopy\u001b[49m\u001b[43m,\u001b[49m\n\u001b[0;32m   9357\u001b[0m \u001b[43m        \u001b[49m\u001b[43mindicator\u001b[49m\u001b[38;5;241;43m=\u001b[39;49m\u001b[43mindicator\u001b[49m\u001b[43m,\u001b[49m\n\u001b[0;32m   9358\u001b[0m \u001b[43m        \u001b[49m\u001b[43mvalidate\u001b[49m\u001b[38;5;241;43m=\u001b[39;49m\u001b[43mvalidate\u001b[49m\u001b[43m,\u001b[49m\n\u001b[0;32m   9359\u001b[0m \u001b[43m    \u001b[49m\u001b[43m)\u001b[49m\n",
      "File \u001b[1;32m~\\anaconda3\\lib\\site-packages\\pandas\\core\\reshape\\merge.py:122\u001b[0m, in \u001b[0;36mmerge\u001b[1;34m(left, right, how, on, left_on, right_on, left_index, right_index, sort, suffixes, copy, indicator, validate)\u001b[0m\n\u001b[0;32m     90\u001b[0m \u001b[38;5;129m@Substitution\u001b[39m(\u001b[38;5;124m\"\u001b[39m\u001b[38;5;130;01m\\n\u001b[39;00m\u001b[38;5;124mleft : DataFrame or named Series\u001b[39m\u001b[38;5;124m\"\u001b[39m)\n\u001b[0;32m     91\u001b[0m \u001b[38;5;129m@Appender\u001b[39m(_merge_doc, indents\u001b[38;5;241m=\u001b[39m\u001b[38;5;241m0\u001b[39m)\n\u001b[0;32m     92\u001b[0m \u001b[38;5;28;01mdef\u001b[39;00m \u001b[38;5;21mmerge\u001b[39m(\n\u001b[1;32m   (...)\u001b[0m\n\u001b[0;32m    105\u001b[0m     validate: \u001b[38;5;28mstr\u001b[39m \u001b[38;5;241m|\u001b[39m \u001b[38;5;28;01mNone\u001b[39;00m \u001b[38;5;241m=\u001b[39m \u001b[38;5;28;01mNone\u001b[39;00m,\n\u001b[0;32m    106\u001b[0m ) \u001b[38;5;241m-\u001b[39m\u001b[38;5;241m>\u001b[39m DataFrame:\n\u001b[0;32m    107\u001b[0m     op \u001b[38;5;241m=\u001b[39m _MergeOperation(\n\u001b[0;32m    108\u001b[0m         left,\n\u001b[0;32m    109\u001b[0m         right,\n\u001b[1;32m   (...)\u001b[0m\n\u001b[0;32m    120\u001b[0m         validate\u001b[38;5;241m=\u001b[39mvalidate,\n\u001b[0;32m    121\u001b[0m     )\n\u001b[1;32m--> 122\u001b[0m     \u001b[38;5;28;01mreturn\u001b[39;00m \u001b[43mop\u001b[49m\u001b[38;5;241;43m.\u001b[39;49m\u001b[43mget_result\u001b[49m\u001b[43m(\u001b[49m\u001b[43m)\u001b[49m\n",
      "File \u001b[1;32m~\\anaconda3\\lib\\site-packages\\pandas\\core\\reshape\\merge.py:725\u001b[0m, in \u001b[0;36m_MergeOperation.get_result\u001b[1;34m(self)\u001b[0m\n\u001b[0;32m    722\u001b[0m lindexers \u001b[38;5;241m=\u001b[39m {\u001b[38;5;241m1\u001b[39m: left_indexer} \u001b[38;5;28;01mif\u001b[39;00m left_indexer \u001b[38;5;129;01mis\u001b[39;00m \u001b[38;5;129;01mnot\u001b[39;00m \u001b[38;5;28;01mNone\u001b[39;00m \u001b[38;5;28;01melse\u001b[39;00m {}\n\u001b[0;32m    723\u001b[0m rindexers \u001b[38;5;241m=\u001b[39m {\u001b[38;5;241m1\u001b[39m: right_indexer} \u001b[38;5;28;01mif\u001b[39;00m right_indexer \u001b[38;5;129;01mis\u001b[39;00m \u001b[38;5;129;01mnot\u001b[39;00m \u001b[38;5;28;01mNone\u001b[39;00m \u001b[38;5;28;01melse\u001b[39;00m {}\n\u001b[1;32m--> 725\u001b[0m result_data \u001b[38;5;241m=\u001b[39m \u001b[43mconcatenate_managers\u001b[49m\u001b[43m(\u001b[49m\n\u001b[0;32m    726\u001b[0m \u001b[43m    \u001b[49m\u001b[43m[\u001b[49m\u001b[43m(\u001b[49m\u001b[38;5;28;43mself\u001b[39;49m\u001b[38;5;241;43m.\u001b[39;49m\u001b[43mleft\u001b[49m\u001b[38;5;241;43m.\u001b[39;49m\u001b[43m_mgr\u001b[49m\u001b[43m,\u001b[49m\u001b[43m \u001b[49m\u001b[43mlindexers\u001b[49m\u001b[43m)\u001b[49m\u001b[43m,\u001b[49m\u001b[43m \u001b[49m\u001b[43m(\u001b[49m\u001b[38;5;28;43mself\u001b[39;49m\u001b[38;5;241;43m.\u001b[39;49m\u001b[43mright\u001b[49m\u001b[38;5;241;43m.\u001b[39;49m\u001b[43m_mgr\u001b[49m\u001b[43m,\u001b[49m\u001b[43m \u001b[49m\u001b[43mrindexers\u001b[49m\u001b[43m)\u001b[49m\u001b[43m]\u001b[49m\u001b[43m,\u001b[49m\n\u001b[0;32m    727\u001b[0m \u001b[43m    \u001b[49m\u001b[43maxes\u001b[49m\u001b[38;5;241;43m=\u001b[39;49m\u001b[43m[\u001b[49m\u001b[43mllabels\u001b[49m\u001b[38;5;241;43m.\u001b[39;49m\u001b[43mappend\u001b[49m\u001b[43m(\u001b[49m\u001b[43mrlabels\u001b[49m\u001b[43m)\u001b[49m\u001b[43m,\u001b[49m\u001b[43m \u001b[49m\u001b[43mjoin_index\u001b[49m\u001b[43m]\u001b[49m\u001b[43m,\u001b[49m\n\u001b[0;32m    728\u001b[0m \u001b[43m    \u001b[49m\u001b[43mconcat_axis\u001b[49m\u001b[38;5;241;43m=\u001b[39;49m\u001b[38;5;241;43m0\u001b[39;49m\u001b[43m,\u001b[49m\n\u001b[0;32m    729\u001b[0m \u001b[43m    \u001b[49m\u001b[43mcopy\u001b[49m\u001b[38;5;241;43m=\u001b[39;49m\u001b[38;5;28;43mself\u001b[39;49m\u001b[38;5;241;43m.\u001b[39;49m\u001b[43mcopy\u001b[49m\u001b[43m,\u001b[49m\n\u001b[0;32m    730\u001b[0m \u001b[43m\u001b[49m\u001b[43m)\u001b[49m\n\u001b[0;32m    732\u001b[0m typ \u001b[38;5;241m=\u001b[39m \u001b[38;5;28mself\u001b[39m\u001b[38;5;241m.\u001b[39mleft\u001b[38;5;241m.\u001b[39m_constructor\n\u001b[0;32m    733\u001b[0m result \u001b[38;5;241m=\u001b[39m typ(result_data)\u001b[38;5;241m.\u001b[39m__finalize__(\u001b[38;5;28mself\u001b[39m, method\u001b[38;5;241m=\u001b[39m\u001b[38;5;28mself\u001b[39m\u001b[38;5;241m.\u001b[39m_merge_type)\n",
      "File \u001b[1;32m~\\anaconda3\\lib\\site-packages\\pandas\\core\\internals\\concat.py:202\u001b[0m, in \u001b[0;36mconcatenate_managers\u001b[1;34m(mgrs_indexers, axes, concat_axis, copy)\u001b[0m\n\u001b[0;32m    195\u001b[0m \u001b[38;5;66;03m# Assertions disabled for performance\u001b[39;00m\n\u001b[0;32m    196\u001b[0m \u001b[38;5;66;03m# for tup in mgrs_indexers:\u001b[39;00m\n\u001b[0;32m    197\u001b[0m \u001b[38;5;66;03m#    # caller is responsible for ensuring this\u001b[39;00m\n\u001b[0;32m    198\u001b[0m \u001b[38;5;66;03m#    indexers = tup[1]\u001b[39;00m\n\u001b[0;32m    199\u001b[0m \u001b[38;5;66;03m#    assert concat_axis not in indexers\u001b[39;00m\n\u001b[0;32m    201\u001b[0m \u001b[38;5;28;01mif\u001b[39;00m concat_axis \u001b[38;5;241m==\u001b[39m \u001b[38;5;241m0\u001b[39m:\n\u001b[1;32m--> 202\u001b[0m     \u001b[38;5;28;01mreturn\u001b[39;00m \u001b[43m_concat_managers_axis0\u001b[49m\u001b[43m(\u001b[49m\u001b[43mmgrs_indexers\u001b[49m\u001b[43m,\u001b[49m\u001b[43m \u001b[49m\u001b[43maxes\u001b[49m\u001b[43m,\u001b[49m\u001b[43m \u001b[49m\u001b[43mcopy\u001b[49m\u001b[43m)\u001b[49m\n\u001b[0;32m    204\u001b[0m mgrs_indexers \u001b[38;5;241m=\u001b[39m _maybe_reindex_columns_na_proxy(axes, mgrs_indexers)\n\u001b[0;32m    206\u001b[0m \u001b[38;5;66;03m# Assertion disabled for performance\u001b[39;00m\n\u001b[0;32m    207\u001b[0m \u001b[38;5;66;03m# assert all(not x[1] for x in mgrs_indexers)\u001b[39;00m\n",
      "File \u001b[1;32m~\\anaconda3\\lib\\site-packages\\pandas\\core\\internals\\concat.py:264\u001b[0m, in \u001b[0;36m_concat_managers_axis0\u001b[1;34m(mgrs_indexers, axes, copy)\u001b[0m\n\u001b[0;32m    257\u001b[0m \u001b[38;5;124;03m\"\"\"\u001b[39;00m\n\u001b[0;32m    258\u001b[0m \u001b[38;5;124;03mconcat_managers specialized to concat_axis=0, with reindexing already\u001b[39;00m\n\u001b[0;32m    259\u001b[0m \u001b[38;5;124;03mhaving been done in _maybe_reindex_columns_na_proxy.\u001b[39;00m\n\u001b[0;32m    260\u001b[0m \u001b[38;5;124;03m\"\"\"\u001b[39;00m\n\u001b[0;32m    261\u001b[0m had_reindexers \u001b[38;5;241m=\u001b[39m {\n\u001b[0;32m    262\u001b[0m     i: \u001b[38;5;28mlen\u001b[39m(mgrs_indexers[i][\u001b[38;5;241m1\u001b[39m]) \u001b[38;5;241m>\u001b[39m \u001b[38;5;241m0\u001b[39m \u001b[38;5;28;01mfor\u001b[39;00m i \u001b[38;5;129;01min\u001b[39;00m \u001b[38;5;28mrange\u001b[39m(\u001b[38;5;28mlen\u001b[39m(mgrs_indexers))\n\u001b[0;32m    263\u001b[0m }\n\u001b[1;32m--> 264\u001b[0m mgrs_indexers \u001b[38;5;241m=\u001b[39m \u001b[43m_maybe_reindex_columns_na_proxy\u001b[49m\u001b[43m(\u001b[49m\u001b[43maxes\u001b[49m\u001b[43m,\u001b[49m\u001b[43m \u001b[49m\u001b[43mmgrs_indexers\u001b[49m\u001b[43m)\u001b[49m\n\u001b[0;32m    266\u001b[0m mgrs \u001b[38;5;241m=\u001b[39m [x[\u001b[38;5;241m0\u001b[39m] \u001b[38;5;28;01mfor\u001b[39;00m x \u001b[38;5;129;01min\u001b[39;00m mgrs_indexers]\n\u001b[0;32m    268\u001b[0m offset \u001b[38;5;241m=\u001b[39m \u001b[38;5;241m0\u001b[39m\n",
      "File \u001b[1;32m~\\anaconda3\\lib\\site-packages\\pandas\\core\\internals\\concat.py:306\u001b[0m, in \u001b[0;36m_maybe_reindex_columns_na_proxy\u001b[1;34m(axes, mgrs_indexers)\u001b[0m\n\u001b[0;32m    302\u001b[0m \u001b[38;5;28;01mfor\u001b[39;00m mgr, indexers \u001b[38;5;129;01min\u001b[39;00m mgrs_indexers:\n\u001b[0;32m    303\u001b[0m     \u001b[38;5;66;03m# For axis=0 (i.e. columns) we use_na_proxy and only_slice, so this\u001b[39;00m\n\u001b[0;32m    304\u001b[0m     \u001b[38;5;66;03m#  is a cheap reindexing.\u001b[39;00m\n\u001b[0;32m    305\u001b[0m     \u001b[38;5;28;01mfor\u001b[39;00m i, indexer \u001b[38;5;129;01min\u001b[39;00m indexers\u001b[38;5;241m.\u001b[39mitems():\n\u001b[1;32m--> 306\u001b[0m         mgr \u001b[38;5;241m=\u001b[39m \u001b[43mmgr\u001b[49m\u001b[38;5;241;43m.\u001b[39;49m\u001b[43mreindex_indexer\u001b[49m\u001b[43m(\u001b[49m\n\u001b[0;32m    307\u001b[0m \u001b[43m            \u001b[49m\u001b[43maxes\u001b[49m\u001b[43m[\u001b[49m\u001b[43mi\u001b[49m\u001b[43m]\u001b[49m\u001b[43m,\u001b[49m\n\u001b[0;32m    308\u001b[0m \u001b[43m            \u001b[49m\u001b[43mindexers\u001b[49m\u001b[43m[\u001b[49m\u001b[43mi\u001b[49m\u001b[43m]\u001b[49m\u001b[43m,\u001b[49m\n\u001b[0;32m    309\u001b[0m \u001b[43m            \u001b[49m\u001b[43maxis\u001b[49m\u001b[38;5;241;43m=\u001b[39;49m\u001b[43mi\u001b[49m\u001b[43m,\u001b[49m\n\u001b[0;32m    310\u001b[0m \u001b[43m            \u001b[49m\u001b[43mcopy\u001b[49m\u001b[38;5;241;43m=\u001b[39;49m\u001b[38;5;28;43;01mFalse\u001b[39;49;00m\u001b[43m,\u001b[49m\n\u001b[0;32m    311\u001b[0m \u001b[43m            \u001b[49m\u001b[43monly_slice\u001b[49m\u001b[38;5;241;43m=\u001b[39;49m\u001b[38;5;28;43;01mTrue\u001b[39;49;00m\u001b[43m,\u001b[49m\u001b[43m  \u001b[49m\u001b[38;5;66;43;03m# only relevant for i==0\u001b[39;49;00m\n\u001b[0;32m    312\u001b[0m \u001b[43m            \u001b[49m\u001b[43mallow_dups\u001b[49m\u001b[38;5;241;43m=\u001b[39;49m\u001b[38;5;28;43;01mTrue\u001b[39;49;00m\u001b[43m,\u001b[49m\n\u001b[0;32m    313\u001b[0m \u001b[43m            \u001b[49m\u001b[43muse_na_proxy\u001b[49m\u001b[38;5;241;43m=\u001b[39;49m\u001b[38;5;28;43;01mTrue\u001b[39;49;00m\u001b[43m,\u001b[49m\u001b[43m  \u001b[49m\u001b[38;5;66;43;03m# only relevant for i==0\u001b[39;49;00m\n\u001b[0;32m    314\u001b[0m \u001b[43m        \u001b[49m\u001b[43m)\u001b[49m\n\u001b[0;32m    315\u001b[0m     new_mgrs_indexers\u001b[38;5;241m.\u001b[39mappend((mgr, {}))\n\u001b[0;32m    317\u001b[0m \u001b[38;5;28;01mreturn\u001b[39;00m new_mgrs_indexers\n",
      "File \u001b[1;32m~\\anaconda3\\lib\\site-packages\\pandas\\core\\internals\\managers.py:692\u001b[0m, in \u001b[0;36mBaseBlockManager.reindex_indexer\u001b[1;34m(self, new_axis, indexer, axis, fill_value, allow_dups, copy, consolidate, only_slice, use_na_proxy)\u001b[0m\n\u001b[0;32m    685\u001b[0m     new_blocks \u001b[38;5;241m=\u001b[39m \u001b[38;5;28mself\u001b[39m\u001b[38;5;241m.\u001b[39m_slice_take_blocks_ax0(\n\u001b[0;32m    686\u001b[0m         indexer,\n\u001b[0;32m    687\u001b[0m         fill_value\u001b[38;5;241m=\u001b[39mfill_value,\n\u001b[0;32m    688\u001b[0m         only_slice\u001b[38;5;241m=\u001b[39monly_slice,\n\u001b[0;32m    689\u001b[0m         use_na_proxy\u001b[38;5;241m=\u001b[39muse_na_proxy,\n\u001b[0;32m    690\u001b[0m     )\n\u001b[0;32m    691\u001b[0m \u001b[38;5;28;01melse\u001b[39;00m:\n\u001b[1;32m--> 692\u001b[0m     new_blocks \u001b[38;5;241m=\u001b[39m [\n\u001b[0;32m    693\u001b[0m         blk\u001b[38;5;241m.\u001b[39mtake_nd(\n\u001b[0;32m    694\u001b[0m             indexer,\n\u001b[0;32m    695\u001b[0m             axis\u001b[38;5;241m=\u001b[39m\u001b[38;5;241m1\u001b[39m,\n\u001b[0;32m    696\u001b[0m             fill_value\u001b[38;5;241m=\u001b[39m(\n\u001b[0;32m    697\u001b[0m                 fill_value \u001b[38;5;28;01mif\u001b[39;00m fill_value \u001b[38;5;129;01mis\u001b[39;00m \u001b[38;5;129;01mnot\u001b[39;00m \u001b[38;5;28;01mNone\u001b[39;00m \u001b[38;5;28;01melse\u001b[39;00m blk\u001b[38;5;241m.\u001b[39mfill_value\n\u001b[0;32m    698\u001b[0m             ),\n\u001b[0;32m    699\u001b[0m         )\n\u001b[0;32m    700\u001b[0m         \u001b[38;5;28;01mfor\u001b[39;00m blk \u001b[38;5;129;01min\u001b[39;00m \u001b[38;5;28mself\u001b[39m\u001b[38;5;241m.\u001b[39mblocks\n\u001b[0;32m    701\u001b[0m     ]\n\u001b[0;32m    703\u001b[0m new_axes \u001b[38;5;241m=\u001b[39m \u001b[38;5;28mlist\u001b[39m(\u001b[38;5;28mself\u001b[39m\u001b[38;5;241m.\u001b[39maxes)\n\u001b[0;32m    704\u001b[0m new_axes[axis] \u001b[38;5;241m=\u001b[39m new_axis\n",
      "File \u001b[1;32m~\\anaconda3\\lib\\site-packages\\pandas\\core\\internals\\managers.py:693\u001b[0m, in \u001b[0;36m<listcomp>\u001b[1;34m(.0)\u001b[0m\n\u001b[0;32m    685\u001b[0m     new_blocks \u001b[38;5;241m=\u001b[39m \u001b[38;5;28mself\u001b[39m\u001b[38;5;241m.\u001b[39m_slice_take_blocks_ax0(\n\u001b[0;32m    686\u001b[0m         indexer,\n\u001b[0;32m    687\u001b[0m         fill_value\u001b[38;5;241m=\u001b[39mfill_value,\n\u001b[0;32m    688\u001b[0m         only_slice\u001b[38;5;241m=\u001b[39monly_slice,\n\u001b[0;32m    689\u001b[0m         use_na_proxy\u001b[38;5;241m=\u001b[39muse_na_proxy,\n\u001b[0;32m    690\u001b[0m     )\n\u001b[0;32m    691\u001b[0m \u001b[38;5;28;01melse\u001b[39;00m:\n\u001b[0;32m    692\u001b[0m     new_blocks \u001b[38;5;241m=\u001b[39m [\n\u001b[1;32m--> 693\u001b[0m         \u001b[43mblk\u001b[49m\u001b[38;5;241;43m.\u001b[39;49m\u001b[43mtake_nd\u001b[49m\u001b[43m(\u001b[49m\n\u001b[0;32m    694\u001b[0m \u001b[43m            \u001b[49m\u001b[43mindexer\u001b[49m\u001b[43m,\u001b[49m\n\u001b[0;32m    695\u001b[0m \u001b[43m            \u001b[49m\u001b[43maxis\u001b[49m\u001b[38;5;241;43m=\u001b[39;49m\u001b[38;5;241;43m1\u001b[39;49m\u001b[43m,\u001b[49m\n\u001b[0;32m    696\u001b[0m \u001b[43m            \u001b[49m\u001b[43mfill_value\u001b[49m\u001b[38;5;241;43m=\u001b[39;49m\u001b[43m(\u001b[49m\n\u001b[0;32m    697\u001b[0m \u001b[43m                \u001b[49m\u001b[43mfill_value\u001b[49m\u001b[43m \u001b[49m\u001b[38;5;28;43;01mif\u001b[39;49;00m\u001b[43m \u001b[49m\u001b[43mfill_value\u001b[49m\u001b[43m \u001b[49m\u001b[38;5;129;43;01mis\u001b[39;49;00m\u001b[43m \u001b[49m\u001b[38;5;129;43;01mnot\u001b[39;49;00m\u001b[43m \u001b[49m\u001b[38;5;28;43;01mNone\u001b[39;49;00m\u001b[43m \u001b[49m\u001b[38;5;28;43;01melse\u001b[39;49;00m\u001b[43m \u001b[49m\u001b[43mblk\u001b[49m\u001b[38;5;241;43m.\u001b[39;49m\u001b[43mfill_value\u001b[49m\n\u001b[0;32m    698\u001b[0m \u001b[43m            \u001b[49m\u001b[43m)\u001b[49m\u001b[43m,\u001b[49m\n\u001b[0;32m    699\u001b[0m \u001b[43m        \u001b[49m\u001b[43m)\u001b[49m\n\u001b[0;32m    700\u001b[0m         \u001b[38;5;28;01mfor\u001b[39;00m blk \u001b[38;5;129;01min\u001b[39;00m \u001b[38;5;28mself\u001b[39m\u001b[38;5;241m.\u001b[39mblocks\n\u001b[0;32m    701\u001b[0m     ]\n\u001b[0;32m    703\u001b[0m new_axes \u001b[38;5;241m=\u001b[39m \u001b[38;5;28mlist\u001b[39m(\u001b[38;5;28mself\u001b[39m\u001b[38;5;241m.\u001b[39maxes)\n\u001b[0;32m    704\u001b[0m new_axes[axis] \u001b[38;5;241m=\u001b[39m new_axis\n",
      "File \u001b[1;32m~\\anaconda3\\lib\\site-packages\\pandas\\core\\internals\\blocks.py:1137\u001b[0m, in \u001b[0;36mBlock.take_nd\u001b[1;34m(self, indexer, axis, new_mgr_locs, fill_value)\u001b[0m\n\u001b[0;32m   1134\u001b[0m \u001b[38;5;28;01melse\u001b[39;00m:\n\u001b[0;32m   1135\u001b[0m     allow_fill \u001b[38;5;241m=\u001b[39m \u001b[38;5;28;01mTrue\u001b[39;00m\n\u001b[1;32m-> 1137\u001b[0m new_values \u001b[38;5;241m=\u001b[39m \u001b[43malgos\u001b[49m\u001b[38;5;241;43m.\u001b[39;49m\u001b[43mtake_nd\u001b[49m\u001b[43m(\u001b[49m\n\u001b[0;32m   1138\u001b[0m \u001b[43m    \u001b[49m\u001b[43mvalues\u001b[49m\u001b[43m,\u001b[49m\u001b[43m \u001b[49m\u001b[43mindexer\u001b[49m\u001b[43m,\u001b[49m\u001b[43m \u001b[49m\u001b[43maxis\u001b[49m\u001b[38;5;241;43m=\u001b[39;49m\u001b[43maxis\u001b[49m\u001b[43m,\u001b[49m\u001b[43m \u001b[49m\u001b[43mallow_fill\u001b[49m\u001b[38;5;241;43m=\u001b[39;49m\u001b[43mallow_fill\u001b[49m\u001b[43m,\u001b[49m\u001b[43m \u001b[49m\u001b[43mfill_value\u001b[49m\u001b[38;5;241;43m=\u001b[39;49m\u001b[43mfill_value\u001b[49m\n\u001b[0;32m   1139\u001b[0m \u001b[43m\u001b[49m\u001b[43m)\u001b[49m\n\u001b[0;32m   1141\u001b[0m \u001b[38;5;66;03m# Called from three places in managers, all of which satisfy\u001b[39;00m\n\u001b[0;32m   1142\u001b[0m \u001b[38;5;66;03m#  this assertion\u001b[39;00m\n\u001b[0;32m   1143\u001b[0m \u001b[38;5;28;01massert\u001b[39;00m \u001b[38;5;129;01mnot\u001b[39;00m (axis \u001b[38;5;241m==\u001b[39m \u001b[38;5;241m0\u001b[39m \u001b[38;5;129;01mand\u001b[39;00m new_mgr_locs \u001b[38;5;129;01mis\u001b[39;00m \u001b[38;5;28;01mNone\u001b[39;00m)\n",
      "File \u001b[1;32m~\\anaconda3\\lib\\site-packages\\pandas\\core\\array_algos\\take.py:117\u001b[0m, in \u001b[0;36mtake_nd\u001b[1;34m(arr, indexer, axis, fill_value, allow_fill)\u001b[0m\n\u001b[0;32m    114\u001b[0m     \u001b[38;5;28;01mreturn\u001b[39;00m arr\u001b[38;5;241m.\u001b[39mtake(indexer, fill_value\u001b[38;5;241m=\u001b[39mfill_value, allow_fill\u001b[38;5;241m=\u001b[39mallow_fill)\n\u001b[0;32m    116\u001b[0m arr \u001b[38;5;241m=\u001b[39m np\u001b[38;5;241m.\u001b[39masarray(arr)\n\u001b[1;32m--> 117\u001b[0m \u001b[38;5;28;01mreturn\u001b[39;00m \u001b[43m_take_nd_ndarray\u001b[49m\u001b[43m(\u001b[49m\u001b[43marr\u001b[49m\u001b[43m,\u001b[49m\u001b[43m \u001b[49m\u001b[43mindexer\u001b[49m\u001b[43m,\u001b[49m\u001b[43m \u001b[49m\u001b[43maxis\u001b[49m\u001b[43m,\u001b[49m\u001b[43m \u001b[49m\u001b[43mfill_value\u001b[49m\u001b[43m,\u001b[49m\u001b[43m \u001b[49m\u001b[43mallow_fill\u001b[49m\u001b[43m)\u001b[49m\n",
      "File \u001b[1;32m~\\anaconda3\\lib\\site-packages\\pandas\\core\\array_algos\\take.py:158\u001b[0m, in \u001b[0;36m_take_nd_ndarray\u001b[1;34m(arr, indexer, axis, fill_value, allow_fill)\u001b[0m\n\u001b[0;32m    156\u001b[0m     out \u001b[38;5;241m=\u001b[39m np\u001b[38;5;241m.\u001b[39mempty(out_shape, dtype\u001b[38;5;241m=\u001b[39mdtype, order\u001b[38;5;241m=\u001b[39m\u001b[38;5;124m\"\u001b[39m\u001b[38;5;124mF\u001b[39m\u001b[38;5;124m\"\u001b[39m)\n\u001b[0;32m    157\u001b[0m \u001b[38;5;28;01melse\u001b[39;00m:\n\u001b[1;32m--> 158\u001b[0m     out \u001b[38;5;241m=\u001b[39m \u001b[43mnp\u001b[49m\u001b[38;5;241;43m.\u001b[39;49m\u001b[43mempty\u001b[49m\u001b[43m(\u001b[49m\u001b[43mout_shape\u001b[49m\u001b[43m,\u001b[49m\u001b[43m \u001b[49m\u001b[43mdtype\u001b[49m\u001b[38;5;241;43m=\u001b[39;49m\u001b[43mdtype\u001b[49m\u001b[43m)\u001b[49m\n\u001b[0;32m    160\u001b[0m func \u001b[38;5;241m=\u001b[39m _get_take_nd_function(\n\u001b[0;32m    161\u001b[0m     arr\u001b[38;5;241m.\u001b[39mndim, arr\u001b[38;5;241m.\u001b[39mdtype, out\u001b[38;5;241m.\u001b[39mdtype, axis\u001b[38;5;241m=\u001b[39maxis, mask_info\u001b[38;5;241m=\u001b[39mmask_info\n\u001b[0;32m    162\u001b[0m )\n\u001b[0;32m    163\u001b[0m func(arr, indexer, out, fill_value)\n",
      "\u001b[1;31mMemoryError\u001b[0m: Unable to allocate 2.19 GiB for an array with shape (1098, 267379) and data type int64"
     ]
    }
   ],
   "source": [
    "#run the training loop\n",
    "training_loop()"
   ]
  },
  {
   "cell_type": "markdown",
   "metadata": {},
   "source": [
    "**Predict on Test set**"
   ]
  },
  {
   "cell_type": "code",
   "execution_count": 47,
   "metadata": {
    "execution": {
     "iopub.execute_input": "2022-02-18T13:46:30.639496Z",
     "iopub.status.busy": "2022-02-18T13:46:30.639107Z",
     "iopub.status.idle": "2022-02-18T13:47:13.162317Z",
     "shell.execute_reply": "2022-02-18T13:47:13.161464Z",
     "shell.execute_reply.started": "2022-02-18T13:46:30.639462Z"
    }
   },
   "outputs": [
    {
     "ename": "NameError",
     "evalue": "name 'model' is not defined",
     "output_type": "error",
     "traceback": [
      "\u001b[1;31m---------------------------------------------------------------------------\u001b[0m",
      "\u001b[1;31mNameError\u001b[0m                                 Traceback (most recent call last)",
      "Input \u001b[1;32mIn [47]\u001b[0m, in \u001b[0;36m<cell line: 18>\u001b[1;34m()\u001b[0m\n\u001b[0;32m     14\u001b[0m     delete_items([user_test,rest_test,target_test])\n\u001b[0;32m     17\u001b[0m \u001b[38;5;66;03m#predict on the test set \u001b[39;00m\n\u001b[1;32m---> 18\u001b[0m prediction \u001b[38;5;241m=\u001b[39m \u001b[38;5;241m1\u001b[39m \u001b[38;5;241m+\u001b[39m test_predict(model\u001b[38;5;241m=\u001b[39m\u001b[43mmodel\u001b[49m,evaluate\u001b[38;5;241m=\u001b[39m\u001b[38;5;28;01mFalse\u001b[39;00m,predict\u001b[38;5;241m=\u001b[39m\u001b[38;5;28;01mTrue\u001b[39;00m)\u001b[38;5;241m.\u001b[39margmax(axis\u001b[38;5;241m=\u001b[39m\u001b[38;5;241m1\u001b[39m)\n",
      "\u001b[1;31mNameError\u001b[0m: name 'model' is not defined"
     ]
    }
   ],
   "source": [
    "def test_predict(model,evaluate=True,predict=False):\n",
    "    user_test,rest_test,target_test = prepare_data_for_training(reviews_user_matrix_test)\n",
    "    \n",
    "    if evaluate:\n",
    "        model.evaluate([user_test,rest_test])\n",
    "    \n",
    "    if predict:\n",
    "        prediction = model.predict([user_test,rest_test])\n",
    "        \n",
    "        delete_items([user_test,rest_test,target_test])\n",
    "        return prediction\n",
    "    \n",
    "    \n",
    "    delete_items([user_test,rest_test,target_test])\n",
    "    \n",
    "    \n",
    "#predict on the test set \n",
    "prediction = 1 + test_predict(model=model,evaluate=False,predict=True).argmax(axis=1)  # as it is indexed from 0 "
   ]
  },
  {
   "cell_type": "code",
   "execution_count": 48,
   "metadata": {
    "execution": {
     "iopub.execute_input": "2022-02-18T13:31:45.984355Z",
     "iopub.status.busy": "2022-02-18T13:31:45.983372Z",
     "iopub.status.idle": "2022-02-18T13:31:52.136526Z",
     "shell.execute_reply": "2022-02-18T13:31:52.135301Z",
     "shell.execute_reply.started": "2022-02-18T13:31:45.984291Z"
    }
   },
   "outputs": [
    {
     "ename": "ValueError",
     "evalue": "Expected object or value",
     "output_type": "error",
     "traceback": [
      "\u001b[1;31m---------------------------------------------------------------------------\u001b[0m",
      "\u001b[1;31mValueError\u001b[0m                                Traceback (most recent call last)",
      "Input \u001b[1;32mIn [48]\u001b[0m, in \u001b[0;36m<cell line: 5>\u001b[1;34m()\u001b[0m\n\u001b[0;32m      2\u001b[0m \u001b[38;5;28;01mfrom\u001b[39;00m \u001b[38;5;21;01mshapely\u001b[39;00m\u001b[38;5;21;01m.\u001b[39;00m\u001b[38;5;21;01mgeometry\u001b[39;00m \u001b[38;5;28;01mimport\u001b[39;00m Point\n\u001b[0;32m      3\u001b[0m \u001b[38;5;28;01mimport\u001b[39;00m \u001b[38;5;21;01mre\u001b[39;00m\n\u001b[1;32m----> 5\u001b[0m business \u001b[38;5;241m=\u001b[39m \u001b[43mpd\u001b[49m\u001b[38;5;241;43m.\u001b[39;49m\u001b[43mread_json\u001b[49m\u001b[43m(\u001b[49m\u001b[38;5;124;43m'\u001b[39;49m\u001b[38;5;124;43m../input/yelp-dataset/yelp_academic_dataset_business.json\u001b[39;49m\u001b[38;5;124;43m'\u001b[39;49m\u001b[43m,\u001b[49m\n\u001b[0;32m      6\u001b[0m \u001b[43m                        \u001b[49m\u001b[43mlines\u001b[49m\u001b[38;5;241;43m=\u001b[39;49m\u001b[38;5;28;43;01mTrue\u001b[39;49;00m\u001b[43m)\u001b[49m\n\u001b[0;32m      9\u001b[0m \u001b[38;5;66;03m#finding restaurants restaurants\u001b[39;00m\n\u001b[0;32m     10\u001b[0m business[\u001b[38;5;124m'\u001b[39m\u001b[38;5;124mrestaurant\u001b[39m\u001b[38;5;124m'\u001b[39m] \u001b[38;5;241m=\u001b[39m (business\u001b[38;5;241m.\u001b[39mcategories\u001b[38;5;241m.\u001b[39mstr\u001b[38;5;241m.\u001b[39mcontains(pat\u001b[38;5;241m=\u001b[39m\u001b[38;5;124m'\u001b[39m\u001b[38;5;124mRestaurant\u001b[39m\u001b[38;5;124m'\u001b[39m,\n\u001b[0;32m     11\u001b[0m                                                           flags\u001b[38;5;241m=\u001b[39mre\u001b[38;5;241m.\u001b[39mIGNORECASE,\n\u001b[0;32m     12\u001b[0m                                                           regex\u001b[38;5;241m=\u001b[39m\u001b[38;5;28;01mTrue\u001b[39;00m))\n",
      "File \u001b[1;32m~\\anaconda3\\lib\\site-packages\\pandas\\util\\_decorators.py:207\u001b[0m, in \u001b[0;36mdeprecate_kwarg.<locals>._deprecate_kwarg.<locals>.wrapper\u001b[1;34m(*args, **kwargs)\u001b[0m\n\u001b[0;32m    205\u001b[0m     \u001b[38;5;28;01melse\u001b[39;00m:\n\u001b[0;32m    206\u001b[0m         kwargs[new_arg_name] \u001b[38;5;241m=\u001b[39m new_arg_value\n\u001b[1;32m--> 207\u001b[0m \u001b[38;5;28;01mreturn\u001b[39;00m func(\u001b[38;5;241m*\u001b[39margs, \u001b[38;5;241m*\u001b[39m\u001b[38;5;241m*\u001b[39mkwargs)\n",
      "File \u001b[1;32m~\\anaconda3\\lib\\site-packages\\pandas\\util\\_decorators.py:311\u001b[0m, in \u001b[0;36mdeprecate_nonkeyword_arguments.<locals>.decorate.<locals>.wrapper\u001b[1;34m(*args, **kwargs)\u001b[0m\n\u001b[0;32m    305\u001b[0m \u001b[38;5;28;01mif\u001b[39;00m \u001b[38;5;28mlen\u001b[39m(args) \u001b[38;5;241m>\u001b[39m num_allow_args:\n\u001b[0;32m    306\u001b[0m     warnings\u001b[38;5;241m.\u001b[39mwarn(\n\u001b[0;32m    307\u001b[0m         msg\u001b[38;5;241m.\u001b[39mformat(arguments\u001b[38;5;241m=\u001b[39marguments),\n\u001b[0;32m    308\u001b[0m         \u001b[38;5;167;01mFutureWarning\u001b[39;00m,\n\u001b[0;32m    309\u001b[0m         stacklevel\u001b[38;5;241m=\u001b[39mstacklevel,\n\u001b[0;32m    310\u001b[0m     )\n\u001b[1;32m--> 311\u001b[0m \u001b[38;5;28;01mreturn\u001b[39;00m func(\u001b[38;5;241m*\u001b[39margs, \u001b[38;5;241m*\u001b[39m\u001b[38;5;241m*\u001b[39mkwargs)\n",
      "File \u001b[1;32m~\\anaconda3\\lib\\site-packages\\pandas\\io\\json\\_json.py:612\u001b[0m, in \u001b[0;36mread_json\u001b[1;34m(path_or_buf, orient, typ, dtype, convert_axes, convert_dates, keep_default_dates, numpy, precise_float, date_unit, encoding, encoding_errors, lines, chunksize, compression, nrows, storage_options)\u001b[0m\n\u001b[0;32m    609\u001b[0m     \u001b[38;5;28;01mreturn\u001b[39;00m json_reader\n\u001b[0;32m    611\u001b[0m \u001b[38;5;28;01mwith\u001b[39;00m json_reader:\n\u001b[1;32m--> 612\u001b[0m     \u001b[38;5;28;01mreturn\u001b[39;00m \u001b[43mjson_reader\u001b[49m\u001b[38;5;241;43m.\u001b[39;49m\u001b[43mread\u001b[49m\u001b[43m(\u001b[49m\u001b[43m)\u001b[49m\n",
      "File \u001b[1;32m~\\anaconda3\\lib\\site-packages\\pandas\\io\\json\\_json.py:744\u001b[0m, in \u001b[0;36mJsonReader.read\u001b[1;34m(self)\u001b[0m\n\u001b[0;32m    742\u001b[0m         data \u001b[38;5;241m=\u001b[39m ensure_str(\u001b[38;5;28mself\u001b[39m\u001b[38;5;241m.\u001b[39mdata)\n\u001b[0;32m    743\u001b[0m         data_lines \u001b[38;5;241m=\u001b[39m data\u001b[38;5;241m.\u001b[39msplit(\u001b[38;5;124m\"\u001b[39m\u001b[38;5;130;01m\\n\u001b[39;00m\u001b[38;5;124m\"\u001b[39m)\n\u001b[1;32m--> 744\u001b[0m         obj \u001b[38;5;241m=\u001b[39m \u001b[38;5;28;43mself\u001b[39;49m\u001b[38;5;241;43m.\u001b[39;49m\u001b[43m_get_object_parser\u001b[49m\u001b[43m(\u001b[49m\u001b[38;5;28;43mself\u001b[39;49m\u001b[38;5;241;43m.\u001b[39;49m\u001b[43m_combine_lines\u001b[49m\u001b[43m(\u001b[49m\u001b[43mdata_lines\u001b[49m\u001b[43m)\u001b[49m\u001b[43m)\u001b[49m\n\u001b[0;32m    745\u001b[0m \u001b[38;5;28;01melse\u001b[39;00m:\n\u001b[0;32m    746\u001b[0m     obj \u001b[38;5;241m=\u001b[39m \u001b[38;5;28mself\u001b[39m\u001b[38;5;241m.\u001b[39m_get_object_parser(\u001b[38;5;28mself\u001b[39m\u001b[38;5;241m.\u001b[39mdata)\n",
      "File \u001b[1;32m~\\anaconda3\\lib\\site-packages\\pandas\\io\\json\\_json.py:768\u001b[0m, in \u001b[0;36mJsonReader._get_object_parser\u001b[1;34m(self, json)\u001b[0m\n\u001b[0;32m    766\u001b[0m obj \u001b[38;5;241m=\u001b[39m \u001b[38;5;28;01mNone\u001b[39;00m\n\u001b[0;32m    767\u001b[0m \u001b[38;5;28;01mif\u001b[39;00m typ \u001b[38;5;241m==\u001b[39m \u001b[38;5;124m\"\u001b[39m\u001b[38;5;124mframe\u001b[39m\u001b[38;5;124m\"\u001b[39m:\n\u001b[1;32m--> 768\u001b[0m     obj \u001b[38;5;241m=\u001b[39m \u001b[43mFrameParser\u001b[49m\u001b[43m(\u001b[49m\u001b[43mjson\u001b[49m\u001b[43m,\u001b[49m\u001b[43m \u001b[49m\u001b[38;5;241;43m*\u001b[39;49m\u001b[38;5;241;43m*\u001b[39;49m\u001b[43mkwargs\u001b[49m\u001b[43m)\u001b[49m\u001b[38;5;241;43m.\u001b[39;49m\u001b[43mparse\u001b[49m\u001b[43m(\u001b[49m\u001b[43m)\u001b[49m\n\u001b[0;32m    770\u001b[0m \u001b[38;5;28;01mif\u001b[39;00m typ \u001b[38;5;241m==\u001b[39m \u001b[38;5;124m\"\u001b[39m\u001b[38;5;124mseries\u001b[39m\u001b[38;5;124m\"\u001b[39m \u001b[38;5;129;01mor\u001b[39;00m obj \u001b[38;5;129;01mis\u001b[39;00m \u001b[38;5;28;01mNone\u001b[39;00m:\n\u001b[0;32m    771\u001b[0m     \u001b[38;5;28;01mif\u001b[39;00m \u001b[38;5;129;01mnot\u001b[39;00m \u001b[38;5;28misinstance\u001b[39m(dtype, \u001b[38;5;28mbool\u001b[39m):\n",
      "File \u001b[1;32m~\\anaconda3\\lib\\site-packages\\pandas\\io\\json\\_json.py:880\u001b[0m, in \u001b[0;36mParser.parse\u001b[1;34m(self)\u001b[0m\n\u001b[0;32m    878\u001b[0m     \u001b[38;5;28mself\u001b[39m\u001b[38;5;241m.\u001b[39m_parse_numpy()\n\u001b[0;32m    879\u001b[0m \u001b[38;5;28;01melse\u001b[39;00m:\n\u001b[1;32m--> 880\u001b[0m     \u001b[38;5;28;43mself\u001b[39;49m\u001b[38;5;241;43m.\u001b[39;49m\u001b[43m_parse_no_numpy\u001b[49m\u001b[43m(\u001b[49m\u001b[43m)\u001b[49m\n\u001b[0;32m    882\u001b[0m \u001b[38;5;28;01mif\u001b[39;00m \u001b[38;5;28mself\u001b[39m\u001b[38;5;241m.\u001b[39mobj \u001b[38;5;129;01mis\u001b[39;00m \u001b[38;5;28;01mNone\u001b[39;00m:\n\u001b[0;32m    883\u001b[0m     \u001b[38;5;28;01mreturn\u001b[39;00m \u001b[38;5;28;01mNone\u001b[39;00m\n",
      "File \u001b[1;32m~\\anaconda3\\lib\\site-packages\\pandas\\io\\json\\_json.py:1133\u001b[0m, in \u001b[0;36mFrameParser._parse_no_numpy\u001b[1;34m(self)\u001b[0m\n\u001b[0;32m   1129\u001b[0m orient \u001b[38;5;241m=\u001b[39m \u001b[38;5;28mself\u001b[39m\u001b[38;5;241m.\u001b[39morient\n\u001b[0;32m   1131\u001b[0m \u001b[38;5;28;01mif\u001b[39;00m orient \u001b[38;5;241m==\u001b[39m \u001b[38;5;124m\"\u001b[39m\u001b[38;5;124mcolumns\u001b[39m\u001b[38;5;124m\"\u001b[39m:\n\u001b[0;32m   1132\u001b[0m     \u001b[38;5;28mself\u001b[39m\u001b[38;5;241m.\u001b[39mobj \u001b[38;5;241m=\u001b[39m DataFrame(\n\u001b[1;32m-> 1133\u001b[0m         \u001b[43mloads\u001b[49m\u001b[43m(\u001b[49m\u001b[43mjson\u001b[49m\u001b[43m,\u001b[49m\u001b[43m \u001b[49m\u001b[43mprecise_float\u001b[49m\u001b[38;5;241;43m=\u001b[39;49m\u001b[38;5;28;43mself\u001b[39;49m\u001b[38;5;241;43m.\u001b[39;49m\u001b[43mprecise_float\u001b[49m\u001b[43m)\u001b[49m, dtype\u001b[38;5;241m=\u001b[39m\u001b[38;5;28;01mNone\u001b[39;00m\n\u001b[0;32m   1134\u001b[0m     )\n\u001b[0;32m   1135\u001b[0m \u001b[38;5;28;01melif\u001b[39;00m orient \u001b[38;5;241m==\u001b[39m \u001b[38;5;124m\"\u001b[39m\u001b[38;5;124msplit\u001b[39m\u001b[38;5;124m\"\u001b[39m:\n\u001b[0;32m   1136\u001b[0m     decoded \u001b[38;5;241m=\u001b[39m {\n\u001b[0;32m   1137\u001b[0m         \u001b[38;5;28mstr\u001b[39m(k): v\n\u001b[0;32m   1138\u001b[0m         \u001b[38;5;28;01mfor\u001b[39;00m k, v \u001b[38;5;129;01min\u001b[39;00m loads(json, precise_float\u001b[38;5;241m=\u001b[39m\u001b[38;5;28mself\u001b[39m\u001b[38;5;241m.\u001b[39mprecise_float)\u001b[38;5;241m.\u001b[39mitems()\n\u001b[0;32m   1139\u001b[0m     }\n",
      "\u001b[1;31mValueError\u001b[0m: Expected object or value"
     ]
    }
   ],
   "source": [
    "#filter based on location \n",
    "from shapely.geometry import Point\n",
    "import re\n",
    "\n",
    "business = pd.read_json('../input/yelp-dataset/yelp_academic_dataset_business.json',\n",
    "                        lines=True)\n",
    "\n",
    "\n",
    "#finding restaurants restaurants\n",
    "business['restaurant'] = (business.categories.str.contains(pat='Restaurant',\n",
    "                                                          flags=re.IGNORECASE,\n",
    "                                                          regex=True))\n",
    "\n",
    "#saving restaurants  as csv \n",
    "rests = business[(business.restaurant==1) & (business.is_open==1)].reset_index(drop=True)\n",
    "\n",
    "loc_cols = ['business_id','latitude','longitude']\n",
    "\n",
    "\n",
    "rests= rests[loc_cols]\n",
    "\n",
    "\n",
    "locations = gpd.GeoDataFrame(rests)\n",
    "locations.geometry = gpd.points_from_xy(locations['latitude'],locations['longitude'])\n",
    "\n",
    "\n",
    "del business ,rests; gc.collect()"
   ]
  },
  {
   "cell_type": "code",
   "execution_count": 55,
   "metadata": {
    "execution": {
     "iopub.execute_input": "2022-02-18T13:41:29.778540Z",
     "iopub.status.busy": "2022-02-18T13:41:29.777826Z",
     "iopub.status.idle": "2022-02-18T13:41:31.622637Z",
     "shell.execute_reply": "2022-02-18T13:41:31.621900Z",
     "shell.execute_reply.started": "2022-02-18T13:41:29.778493Z"
    }
   },
   "outputs": [
    {
     "name": "stdout",
     "output_type": "stream",
     "text": [
      "Tortilleria & Restaurant La Mexicana is recommended with rating   3\n",
      "King Express is recommended with rating   3\n",
      "Anf Gyros and Grill is recommended with rating   3\n",
      "Taqueria el alacran 2 orlando is recommended with rating   4\n",
      "New Texas Fried Chicken is recommended with rating   3\n",
      "China Sun is recommended with rating   3\n",
      "Casa De Las Empanadas is recommended with rating   3\n",
      "Panaderia Y Taqueria Casas is recommended with rating   4\n",
      "Pizza Hut is recommended with rating   0\n",
      "Tai Won Restaurant is recommended with rating   3\n",
      "Five Star Orlando VIP Tours is recommended with rating   4\n",
      "Burger King is recommended with rating   0\n",
      "Shang Hai is recommended with rating   3\n",
      "Little Caesar's Pizza is recommended with rating   3\n",
      "La Casita Pupusas & Latin Food is recommended with rating   4\n"
     ]
    }
   ],
   "source": [
    "def reccomender(user_id):\n",
    "    '''filtering based on user location and recom top 15 restaurants'''\n",
    "    #get info for the user \n",
    "    user_matrix = reviews_user_matrix[reviews_user_matrix['user_id']==user_id].reset_index(drop=True)\n",
    "    \n",
    "    # business that user has interacted with: (to find the location of user)\n",
    "    user_interaction_business = user_matrix['business_id']\n",
    "    \n",
    "    user_loc_mean = Point(locations[locations['business_id'].isin(user_interaction_business)]['latitude'].mean(),\n",
    "                     locations[locations['business_id'].isin(user_interaction_business)]['longitude'].mean())\n",
    "    \n",
    "    #calculate the closest 20 restaurants to user \n",
    "    \n",
    "    closest_10 = np.argsort(locations.geometry.distance(user_loc_mean))[:15]\n",
    "    \n",
    "    for idx in closest_10:\n",
    "        user = user_matrix.loc[0,cfg.columns_info_dict['user_columns']].values.astype('float32')\n",
    "        business = restaurants.loc[idx,cfg.columns_info_dict['rest_columns']].values.astype('float32')\n",
    "        rest_name = restaurants.iloc[idx]['name']\n",
    "        \n",
    "#         print(rest_name,user.shape,business.shape)\n",
    "        pred = model.predict([np.expand_dims(user,axis=0),np.expand_dims(business,axis=0)]).argmax()\n",
    "        print(f'{rest_name} is recommended with rating  ', pred)\n",
    "    \n",
    "    \n",
    "    \n",
    "    \n",
    "# recommending for user \n",
    "reccomender('SFQ1jcnGguO0LYWnbbftAA')"
   ]
  },
  {
   "cell_type": "code",
   "execution_count": 56,
   "metadata": {
    "execution": {
     "iopub.execute_input": "2022-02-18T13:41:35.691158Z",
     "iopub.status.busy": "2022-02-18T13:41:35.688579Z",
     "iopub.status.idle": "2022-02-18T13:41:37.609705Z",
     "shell.execute_reply": "2022-02-18T13:41:37.607227Z",
     "shell.execute_reply.started": "2022-02-18T13:41:35.691093Z"
    }
   },
   "outputs": [
    {
     "name": "stdout",
     "output_type": "stream",
     "text": [
      "Chatham's Place is recommended with rating   4\n",
      "Team Donovan is recommended with rating   4\n",
      "The Whiskey is recommended with rating   4\n",
      "Tropical Smoothie Cafe is recommended with rating   4\n",
      "Ayothaya Thai Restaurant is recommended with rating   3\n",
      "Starbucks is recommended with rating   4\n",
      "LemonShark Poke Orlando is recommended with rating   4\n",
      "Chipotle Mexican Grill is recommended with rating   3\n",
      "Einstein Bros Bagels is recommended with rating   4\n",
      "The Melting Pot is recommended with rating   4\n",
      "Korean Gogi Grill is recommended with rating   4\n",
      "K-Town Cafe is recommended with rating   4\n",
      "TooJay's is recommended with rating   4\n",
      "Extreme Pizza is recommended with rating   4\n",
      "Steak on Fire is recommended with rating   4\n"
     ]
    }
   ],
   "source": [
    "# recommending for user \n",
    "reccomender('xpxWG7jQXZE6BcSeuIq4PQ')"
   ]
  },
  {
   "cell_type": "code",
   "execution_count": 58,
   "metadata": {
    "execution": {
     "iopub.execute_input": "2022-02-18T13:42:13.078886Z",
     "iopub.status.busy": "2022-02-18T13:42:13.078391Z",
     "iopub.status.idle": "2022-02-18T13:42:15.001126Z",
     "shell.execute_reply": "2022-02-18T13:42:15.000055Z",
     "shell.execute_reply.started": "2022-02-18T13:42:13.078839Z"
    }
   },
   "outputs": [
    {
     "name": "stdout",
     "output_type": "stream",
     "text": [
      "Thai Yummy is recommended with rating   4\n",
      "Tasty Thai Cuisine is recommended with rating   4\n",
      "Oak & Olive Ristorante is recommended with rating   4\n",
      "Verde Cocina - Hillsdale is recommended with rating   4\n",
      "Verde Cocina is recommended with rating   4\n",
      "Sasquatch Brewery is recommended with rating   4\n",
      "Salvador Molly's is recommended with rating   4\n",
      "City Thai Portland is recommended with rating   4\n",
      "Vista Spring Cafe is recommended with rating   4\n",
      "Jade Dragon Chinese Restaurant & Lounge is recommended with rating   0\n",
      "Joseph & Brian's Diner is recommended with rating   4\n",
      "Cafe at the J is recommended with rating   4\n",
      "Casa Colima is recommended with rating   4\n",
      "Papa John's Pizza is recommended with rating   0\n",
      "McMenamins Hillsdale Brewery & Public House is recommended with rating   0\n"
     ]
    }
   ],
   "source": [
    "# recommending for user \n",
    "reccomender('IlxM3NGJOtNXPz5cupqNDQ')"
   ]
  },
  {
   "cell_type": "code",
   "execution_count": 60,
   "metadata": {
    "execution": {
     "iopub.execute_input": "2022-02-18T13:42:54.048646Z",
     "iopub.status.busy": "2022-02-18T13:42:54.047675Z",
     "iopub.status.idle": "2022-02-18T13:42:55.980678Z",
     "shell.execute_reply": "2022-02-18T13:42:55.977252Z",
     "shell.execute_reply.started": "2022-02-18T13:42:54.048598Z"
    }
   },
   "outputs": [
    {
     "name": "stdout",
     "output_type": "stream",
     "text": [
      "Dish Gourmet is recommended with rating   3\n",
      "Scratch Kitchen is recommended with rating   3\n",
      "Mateo is recommended with rating   3\n",
      "Cured is recommended with rating   4\n",
      "River and Woods is recommended with rating   3\n",
      "Frasca Food and Wine is recommended with rating   4\n",
      "The Tune Up is recommended with rating   4\n",
      "Pizzeria Locale is recommended with rating   3\n",
      "Leaf Vegetarian Restaurant is recommended with rating   3\n",
      "Snarfburger is recommended with rating   3\n",
      "Tacos Del Norte is recommended with rating   4\n",
      "La Rue Bayou is recommended with rating   4\n",
      "The Laughing Goat is recommended with rating   3\n",
      "Arabesque is recommended with rating   3\n",
      "Village Coffee Shop is recommended with rating   4\n"
     ]
    }
   ],
   "source": [
    "# recommending for user \n",
    "reccomender('HsT8bz3-SKMk7YidwLLM6Q')"
   ]
  }
 ],
 "metadata": {
  "kernelspec": {
   "display_name": "Python 3 (ipykernel)",
   "language": "python",
   "name": "python3"
  },
  "language_info": {
   "codemirror_mode": {
    "name": "ipython",
    "version": 3
   },
   "file_extension": ".py",
   "mimetype": "text/x-python",
   "name": "python",
   "nbconvert_exporter": "python",
   "pygments_lexer": "ipython3",
   "version": "3.9.12"
  }
 },
 "nbformat": 4,
 "nbformat_minor": 4
}
